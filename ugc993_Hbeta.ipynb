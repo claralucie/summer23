{
 "cells": [
  {
   "cell_type": "markdown",
   "id": "f6ceae9b",
   "metadata": {},
   "source": [
    "## First look at UGC993\n",
    "\n",
    "Finding emission lines and calculating redshift"
   ]
  },
  {
   "cell_type": "code",
   "execution_count": null,
   "id": "d7b40d02",
   "metadata": {},
   "outputs": [],
   "source": [
    "import numpy as np\n",
    "import matplotlib as mpl\n",
    "import matplotlib.pyplot as plt\n",
    "import specutils\n",
    "import astropy.units as u\n",
    "\n",
    "from astropy.io import fits\n",
    "\n",
    "from specutils import Spectrum1D, SpectralRegion\n",
    "from specutils import SpectralRegion\n",
    "from specutils.fitting import estimate_line_parameters\n",
    "from specutils.manipulation import extract_region\n",
    "from specutils.fitting import fit_lines\n",
    "from astropy.nddata import StdDevUncertainty\n",
    "from specutils.fitting import find_lines_threshold\n",
    "\n",
    "from astropy.modeling import models"
   ]
  },
  {
   "cell_type": "code",
   "execution_count": null,
   "id": "a47fd792",
   "metadata": {},
   "outputs": [],
   "source": [
    "ugc993 = fits.open('UGC993.fits')"
   ]
  },
  {
   "cell_type": "code",
   "execution_count": null,
   "id": "934730b3",
   "metadata": {},
   "outputs": [],
   "source": [
    "header = ugc993[1].header\n",
    "header"
   ]
  },
  {
   "cell_type": "code",
   "execution_count": null,
   "id": "85db9c11",
   "metadata": {},
   "outputs": [],
   "source": [
    "wavelength = np.arange(header['CRVAL3'], header['CRVAL3'] + header['CD3_3'] * header['NAXIS3'], header['CD3_3'])\n",
    "\n",
    "fluxCube = ugc993[1].data\n",
    "errorCube = ugc993[2].data"
   ]
  },
  {
   "cell_type": "code",
   "execution_count": null,
   "id": "1166e264",
   "metadata": {},
   "outputs": [],
   "source": [
    "whiteImage = np.nansum(fluxCube, axis=0)"
   ]
  },
  {
   "cell_type": "code",
   "execution_count": null,
   "id": "2c6d06cb",
   "metadata": {},
   "outputs": [],
   "source": [
    "plt.imshow(whiteImage, origin='lower', norm=mpl.colors.LogNorm(vmin=100, vmax=1e5));\n",
    "\n",
    "plt.plot(240, 160, 'x')\n",
    "\n",
    "# plt.ylim(100, 200)\n",
    "# plt.xlim(100, 200);"
   ]
  },
  {
   "cell_type": "code",
   "execution_count": null,
   "id": "fb74cf7f",
   "metadata": {},
   "outputs": [],
   "source": [
    "plt.plot(wavelength, fluxCube[:, 160, 240], 'k-');\n",
    "#plt.xlim(6521.03515625, 6533.53515625)\n",
    "plt.title('Noise over 10 pixels')\n",
    "\n",
    "\n",
    "#print(np.mean(fluxCube[1417:1427, 160, 240]))\n"
   ]
  },
  {
   "cell_type": "markdown",
   "id": "0a878868",
   "metadata": {},
   "source": [
    "#### From SDSS:\n",
    "\n",
    "H Beta - 4862.68\n",
    "\n",
    "O III - 4960.295\n",
    "\n",
    "O III - 5008.240\n",
    "\n",
    "H alpha - 6564.61"
   ]
  },
  {
   "cell_type": "code",
   "execution_count": null,
   "id": "7deafe87",
   "metadata": {},
   "outputs": [],
   "source": [
    "#Wavelengths = [H beta, O III, O III, H alpha]\n",
    "labs = np.array([4862.68, 4960.295, 5008.240, 6564.61])\n"
   ]
  },
  {
   "cell_type": "code",
   "execution_count": null,
   "id": "80e6d6bb",
   "metadata": {},
   "outputs": [],
   "source": [
    "def redshift(lab, observed):\n",
    "    '''\n",
    "    Function to calculate redshift\n",
    "    '''\n",
    "    return (observed - lab)/lab"
   ]
  },
  {
   "cell_type": "code",
   "execution_count": null,
   "id": "de5e2089",
   "metadata": {},
   "outputs": [],
   "source": [
    "fig, (ax1, ax2) = plt.subplots(2)\n",
    "\n",
    "fig.suptitle('Zoomed emission lines')\n",
    "\n",
    "fig.text(0.35, 0.01, 'Wavelength (Angstroms)')\n",
    "fig.text(0.01, 0.15, 'Flux (10^(-20)*erg/s/cm^2/Angstrom)', rotation='vertical')\n",
    "\n",
    "ax1.plot(wavelength, fluxCube[:, 160, 240])\n",
    "ax1.set_xlim(4750, 5100)\n",
    "ax2.plot(wavelength, fluxCube[:, 160, 240])\n",
    "ax2.set_xlim(6600, 6700)"
   ]
  },
  {
   "cell_type": "markdown",
   "id": "fb4d23d8",
   "metadata": {},
   "source": [
    "# Specutils"
   ]
  },
  {
   "cell_type": "markdown",
   "id": "b9ebdc25",
   "metadata": {},
   "source": [
    "Need to redefine the spectra in terms of specutils/astropy quantities"
   ]
  },
  {
   "cell_type": "code",
   "execution_count": null,
   "id": "0dd215bf",
   "metadata": {},
   "outputs": [],
   "source": [
    "lamb = wavelength * u.AA \n",
    "flux = fluxCube[:, 160, 240]* 10**-20 * u.Unit('erg cm-2 s-1 AA-1')\n",
    "\n",
    "spec = Spectrum1D(spectral_axis = lamb, flux=flux, \n",
    "                  uncertainty = StdDevUncertainty(np.sqrt(errorCube[:, 160, 240])* 10**-20))\n",
    "\n",
    "print(spec.shape)"
   ]
  },
  {
   "cell_type": "code",
   "execution_count": null,
   "id": "75282431",
   "metadata": {},
   "outputs": [],
   "source": [
    "f, ax = plt.subplots()  \n",
    "\n",
    "ax.step(spec.spectral_axis, spec.flux) \n",
    "\n",
    "ax.set_xlim(6000, 7000)"
   ]
  },
  {
   "cell_type": "markdown",
   "id": "259c3ad0",
   "metadata": {},
   "source": [
    "# Searching for lines with specutils"
   ]
  },
  {
   "cell_type": "code",
   "execution_count": null,
   "id": "b82a9983",
   "metadata": {},
   "outputs": [],
   "source": [
    "lines = find_lines_threshold(spec, noise_factor= 20)  \n",
    "#lines = find_lines_threshold(spec, flux_threshold=0.25)\n",
    "\n",
    "#lines[lines['line_type'] == 'emission']  \n",
    "\n",
    "lines"
   ]
  },
  {
   "cell_type": "code",
   "execution_count": null,
   "id": "ef202606",
   "metadata": {},
   "outputs": [],
   "source": [
    "spec_obs = lines['line_center']#[0]\n",
    "\n",
    "spec_redshift = redshift(labs*u.AA, spec_obs)\n",
    "\n",
    "print(spec_redshift)\n",
    "print(f'Mean calculated redshift: {np.mean(spec_redshift)}')\n"
   ]
  },
  {
   "cell_type": "code",
   "execution_count": null,
   "id": "0bc6ad7e",
   "metadata": {},
   "outputs": [],
   "source": [
    "print(wavelength[1622])"
   ]
  },
  {
   "cell_type": "markdown",
   "id": "7a23c3ca",
   "metadata": {},
   "source": [
    "###### Find and subtract noise \n",
    "\n",
    "no lines between 10 angstrom range:\n",
    "\n",
    "indices 1400, 1470\n",
    "\n",
    "wavelength 6350 6440\n"
   ]
  },
  {
   "cell_type": "code",
   "execution_count": null,
   "id": "fb6dcf79",
   "metadata": {},
   "outputs": [],
   "source": [
    "halphaNoise = (fluxCube[1605:1615])\n"
   ]
  },
  {
   "cell_type": "code",
   "execution_count": null,
   "id": "55db84b4",
   "metadata": {},
   "outputs": [],
   "source": [
    "halphaImage = np.nansum(fluxCube[1617:1627], axis=0)\n",
    "print(halphaImage.shape)\n",
    "\n",
    "plt.imshow(halphaImage, origin='lower', norm=mpl.colors.LogNorm(vmin=10, vmax=1e5));\n",
    "plt.title('No noise removed')\n",
    "plt.contourf(halphaImage, levels=[50, 75, 150, 250])\n",
    "\n"
   ]
  },
  {
   "cell_type": "code",
   "execution_count": null,
   "id": "13017e92",
   "metadata": {},
   "outputs": [],
   "source": [
    "#Removing background noise from spectrum\n",
    "\n",
    "HalphaImage = np.nansum((fluxCube[1617:1627] - halphaNoise), axis=0)\n",
    "\n",
    "plt.title('Removed Noise, Contour plot')\n",
    "plt.imshow(HalphaImage, origin='lower', norm=mpl.colors.LogNorm(vmin=10, vmax=1e5));\n",
    "\n",
    "plt.contourf(HalphaImage, levels=[50, 75, 150, 250])\n",
    "plt.colorbar()"
   ]
  },
  {
   "cell_type": "markdown",
   "id": "fd111f45",
   "metadata": {},
   "source": [
    "#### Masked cubes"
   ]
  },
  {
   "cell_type": "code",
   "execution_count": null,
   "id": "fc7521ba",
   "metadata": {},
   "outputs": [],
   "source": [
    "Flux250 = fluxCube[:, np.array(np.where(HalphaImage >= 250))[0], np.array(np.where(HalphaImage >= 250))[1]]\n",
    "Flux75 = fluxCube[:, np.array(np.where(HalphaImage >= 75))[0], np.array(np.where(HalphaImage >= 75))[1]]\n",
    "#Flux10 = fluxCube[:, np.array(np.where(HalphaImage >= 10))[0], np.array(np.where(HalphaImage >= 10))[1]]"
   ]
  },
  {
   "cell_type": "code",
   "execution_count": null,
   "id": "cfd839c4",
   "metadata": {},
   "outputs": [],
   "source": [
    "#230, 150\n",
    "np.array(np.where(HalphaImage >= 75)).shape"
   ]
  },
  {
   "cell_type": "code",
   "execution_count": null,
   "id": "973006b6",
   "metadata": {},
   "outputs": [],
   "source": [
    "x = (np.where((np.where(HalphaImage>=75))[1]==150))\n",
    "y = (np.where((np.where(HalphaImage >= 75))[0]==230))\n",
    "\n",
    "print(x)\n",
    "print(y)"
   ]
  },
  {
   "cell_type": "code",
   "execution_count": null,
   "id": "e9f9cb08",
   "metadata": {},
   "outputs": [],
   "source": [
    "print((np.where(HalphaImage >= 75))[1][12842])\n",
    "print((np.where(HalphaImage >= 75))[0][12842])"
   ]
  },
  {
   "cell_type": "code",
   "execution_count": null,
   "id": "0034d131",
   "metadata": {},
   "outputs": [],
   "source": [
    "print(Flux250.shape)\n",
    "print(Flux75.shape)\n",
    "#print(Flux10.shape)"
   ]
  },
  {
   "cell_type": "code",
   "execution_count": null,
   "id": "dfe4f138",
   "metadata": {},
   "outputs": [],
   "source": [
    "#plt.plot(wavelength, fluxCube[:, (np.where(HalphaImage >= 100))[0][7134], (np.where(HalphaImage >= 100))[1][7134]])\n",
    "#plt.plot(wavelength, Flux100[:, 7134])"
   ]
  },
  {
   "cell_type": "code",
   "execution_count": null,
   "id": "f765c118",
   "metadata": {},
   "outputs": [],
   "source": [
    "Error250 = errorCube[:, np.array(np.where(HalphaImage >= 250))[0], np.array(np.where(HalphaImage >= 250))[1]]\n",
    "Error75 = errorCube[:, np.array(np.where(HalphaImage >= 75))[0], np.array(np.where(HalphaImage >=75))[1]]\n",
    "#Error10 = errorCube[:, np.array(np.where(HalphaImage >= 10))[0], np.array(np.where(HalphaImage >= 10))[1]]"
   ]
  },
  {
   "cell_type": "markdown",
   "id": "eb8e8a52",
   "metadata": {},
   "source": [
    "Can now start trying to fit for the masked values"
   ]
  },
  {
   "cell_type": "markdown",
   "id": "7aba1ba9",
   "metadata": {},
   "source": [
    "## Question\n",
    "\n",
    "am I fitting gaussian to the 10 pixel length?"
   ]
  },
  {
   "cell_type": "code",
   "execution_count": null,
   "id": "cfb0cfbb",
   "metadata": {},
   "outputs": [],
   "source": [
    "plt.plot(wavelength[1600:1700], fluxCube[1600:1700, 230, 150] - np.mean(halphaNoise[:, 230, 150]), label='noise subtracted')\n",
    "#plt.plot(wavelength[1600:1700], fluxCube[1600:1700, 230, 150], label='raw data')\n",
    "#plt.xlim(6500.78515625, 6600.03515625)\n",
    "#plt.ylim(-500, 500)\n",
    "plt.legend()\n",
    "plt.title('H-alpha line, 10 pixels')\n"
   ]
  },
  {
   "cell_type": "markdown",
   "id": "2064a27a",
   "metadata": {},
   "source": [
    "Try fitting individual line "
   ]
  },
  {
   "cell_type": "code",
   "execution_count": null,
   "id": "8336f156",
   "metadata": {},
   "outputs": [],
   "source": [
    "print(wavelength[1600])\n",
    "print(wavelength[1680])"
   ]
  },
  {
   "cell_type": "code",
   "execution_count": null,
   "id": "b8fe1973",
   "metadata": {},
   "outputs": [],
   "source": [
    "from astropy.modeling import models, fitting\n",
    "from specutils.fitting import fit_continuum\n",
    "\n",
    "\n",
    "if str(np.float64(fluxCube[1625:1650, 230, 150].max())) == 'nan':\n",
    "    centre_pixel = np.array([1631]),\n",
    "    print('NAN')\n",
    "else:\n",
    "    centre_pixel = (np.where(fluxCube[:, 230, 150] == fluxCube[1625:1650, 230, 150].max()))\n",
    "\n",
    "#print(centre_pixel)\n",
    "centre = int(np.float64(centre_pixel[-1]))\n",
    "\n",
    "redshift_estimate = redshift(labs[-1], wavelength[int(np.float64(centre_pixel[-1]))])\n",
    "#print(f'redshift estimate: {redshift_estimate}')\n",
    "#print(f'integer value of max peak: {centre}')\n",
    "\n",
    "\n",
    "# Model H alpha line using Gaussian 1D\n",
    "#=======================================================================\n",
    "#should spectrum be only 10 pixel range? Probably not, need to model continuum too. Say 50 each side\n",
    "spectrum = Spectrum1D(flux = fluxCube[centre-50:centre+50, 230, 150]*u.Unit('erg cm-2 s-1 AA-1'),\n",
    "            spectral_axis=wavelength[centre-50:centre+50]*u.AA)\n",
    "\n",
    "#print(f'spectrum: {spectrum}')\n",
    "sub_region = SpectralRegion(6620*u.AA, 6635*u.AA)\n",
    "\n",
    "sub_spectrum = extract_region(spectrum, sub_region)\n",
    "#print(f'sub spectrum: {sub_spectrum}')\n",
    "\n",
    "\n",
    "c_init = fit_continuum(spectrum, model = models.Polynomial1D(1, c0=6.51286088, c1=0),\n",
    "                       window=[(6560*u.AA, 6620*u.AA), (6650*u.AA, 6700*u.AA)])\n",
    "c_model = c_init(wavelength[centre-50:centre+50]*u.AA)\n",
    "\n",
    "print(np.float64(c_init.c1))\n",
    "\n",
    "sub_spectrum = extract_region(spectrum - c_model, sub_region)\n",
    "\n",
    "estimate = (estimate_line_parameters(sub_spectrum, models.Gaussian1D()))\n",
    "    \n",
    "\n",
    "print(f'estimate: {estimate}')\n",
    "\n",
    "if str(np.float64(estimate.stddev)) == 'nan':\n",
    "    print('NAN')\n",
    "    g_init = models.Gaussian1D(amplitude=np.float64(estimate.amplitude),\n",
    "                       mean=np.float64(estimate.mean), stddev=1*u.AA)\n",
    "else:\n",
    "    print(f'standard deviation: {np.float64(estimate.stddev)}')\n",
    "    g_init = models.Gaussian1D(amplitude=np.float64(estimate.amplitude),\n",
    "                       mean=np.float64(estimate.mean), stddev=np.float64(estimate.stddev))\n",
    "\n",
    "\n",
    "g_fit = fit_lines(spectrum, g_init,\n",
    "                  window=[(6620*u.AA, 6640*u.AA)])\n",
    "y_fit = g_fit(wavelength*u.AA)\n",
    "print(f'Model amplitude: {np.float64(g_fit.amplitude)}')\n",
    "print(f'Model mean: {np.float64(g_fit.mean)}')\n",
    "\n",
    "plt.plot(wavelength, fluxCube[:, 230, 150], label=\"Original spectrum\")\n",
    "plt.plot(wavelength, y_fit, label=\"Fit result\")\n",
    "plt.title('Single fit peak')\n",
    "plt.xlim(6600, 6725)\n",
    "plt.grid(True)\n",
    "\n",
    "plt.ylim(-100, 200)\n",
    "plt.legend()\n"
   ]
  },
  {
   "cell_type": "code",
   "execution_count": null,
   "id": "4584fb00",
   "metadata": {},
   "outputs": [],
   "source": [
    "sub_region = SpectralRegion(6600*u.AA, 6700*u.AA)\n",
    "\n",
    "sub_spectrum = extract_region(spectrum, sub_region)\n",
    "\n",
    "#print(estimate_line_parameters(sub_spectrum, models.Gaussian1D()))\n",
    "\n",
    "estimates = (estimate_line_parameters(sub_spectrum, models.Gaussian1D()))\n",
    "\n",
    "print(np.float64(estimates.amplitude))\n",
    "\n",
    "print(estimates.amplitude)\n",
    "print(estimates.mean)\n",
    "print(estimates.stddev)\n",
    "\n"
   ]
  },
  {
   "cell_type": "markdown",
   "id": "d4a65d83",
   "metadata": {},
   "source": [
    "## Function\n",
    "\n",
    "Use contour lines H alpha to get pixels that will be used in an array\n",
    "\n",
    "input array wavelength, flux\n",
    "\n",
    "In function:\n",
    "\n",
    "Plot spectrum\n",
    "\n",
    "Find lines\n",
    "\n",
    "Calculate redshift\n",
    "\n",
    "Fit lines\n",
    "\n",
    "Plot fitted with spectrum, save values\n"
   ]
  },
  {
   "cell_type": "code",
   "execution_count": null,
   "id": "15ca8210",
   "metadata": {},
   "outputs": [],
   "source": [
    "def function(wavelength, fluxMask, error):\n",
    "    '''\n",
    "    Function to fit H alpha lines\n",
    "    :param wavelength: array of shape (3801,) of wavelengths over spectrum, units Angstrom\n",
    "    :param fluxMask: fluxes for spaxels where Flux > value\n",
    "    :param error: error on fluxes for masked spaxels\n",
    "    :return amplitude: amplitude of Gaussian for fitted H alpha emission line\n",
    "    :param mean: centre wavelength of peak \n",
    "    :param stddev: standard deviation, or width of line\n",
    "    :param redshift_value: calculated redshift using param mean and lab observed H alpha wavelength \n",
    "    '''\n",
    "    #print(f'number of pixels: {len(fluxMask)}')\n",
    "    #length = len(fluxMask)\n",
    "    # Write spectrum astropy way and plot spectrum\n",
    "    #=======================================================================\n",
    "    specutils.conf.do_continuum_function_check = False\n",
    "    \n",
    "    lamb = wavelength * u.AA \n",
    "    fluxData = fluxMask * u.Unit('erg cm^-2 s^-1 AA^-1')\n",
    "    spec = Spectrum1D(spectral_axis = lamb, flux=fluxData, \n",
    "                  uncertainty = StdDevUncertainty(np.sqrt(error)* 10**-20))\n",
    "    \n",
    "    f, ax = plt.subplots()  \n",
    "\n",
    "    ax.step(spec.spectral_axis, (spec.flux))\n",
    "    ax.set_xlim(6500, 6700)\n",
    "    \n",
    "    # Find lines and calculate redshift\n",
    "    #========================================================================\n",
    "    lines = find_lines_threshold(spec, noise_factor = 50)  \n",
    "    \n",
    "    spec_obs = lines['line_center'][lines['line_type'] == 'emission']\n",
    "    \n",
    "    #if len(spec_obs)==4:\n",
    "        #spec_redshift = redshift(labs*u.AA, spec_obs)\n",
    "        #print(f'Mean calculated redshift: {np.mean(spec_redshift)}')\n",
    "        \n",
    "    if len(spec_obs) == 0:\n",
    "        print(f'No lines found')\n",
    "        \n",
    "    #else:\n",
    "        #print(f'{len(spec_obs)} lines found')\n",
    "        #print(spec_obs)\n",
    "        \n",
    "    #print(f'flux shape: {fluxData.shape}')\n",
    "    \n",
    "    # Find centre pixel of H alpha line\n",
    "    #=======================================================================\n",
    "    if str(np.float64(fluxData[1625:1650].max())) == 'nan':\n",
    "        centre_pixel = np.array([1631]),\n",
    "        print('NAN')\n",
    "    else:\n",
    "        centre_pixel = (np.where(fluxData == fluxData[1625:1650].max()))\n",
    "    \n",
    "    print(centre_pixel)\n",
    "    centre = int(np.float64(centre_pixel[-1]))\n",
    "    \n",
    "    redshift_estimate = redshift(labs[-1], wavelength[int(np.float64(centre_pixel[-1]))])\n",
    "    #print(f'redshift estimate: {redshift_estimate}')\n",
    "    #print(f'integer value of max peak: {centre}')\n",
    "    \n",
    "    \n",
    "    # Model H alpha line using Gaussian 1D\n",
    "    #=======================================================================\n",
    "    #should spectrum be only 10 pixel range? Probably not, need to model continuum too. Say 50 each side\n",
    "    spectrum = Spectrum1D(flux =\n",
    "                fluxData[centre-50:centre+50],\n",
    "                spectral_axis=wavelength[centre-50:centre+50]*u.AA)\n",
    "\n",
    "    #print(f'spectrum: {spectrum}')\n",
    "    sub_region = SpectralRegion(6620*u.AA, 6635*u.AA)\n",
    "\n",
    "    sub_spectrum = extract_region(spectrum, sub_region)\n",
    "    #print(f'sub spectrum: {sub_spectrum}')\n",
    "    \n",
    "        \n",
    "    c_init = fit_continuum(spectrum, model = models.Polynomial1D(1, c0=6.51286088, c1=0),\n",
    "                           window=[(6560*u.AA, 6620*u.AA), (6650*u.AA, 6700*u.AA)])\n",
    "    \n",
    "    c_model = c_init(wavelength[centre-50:centre+50]*u.AA)\n",
    "    \n",
    "    sub_spectrum = extract_region(spectrum - c_model, sub_region)\n",
    "    \n",
    "    estimate = (estimate_line_parameters(sub_spectrum, models.Gaussian1D()))\n",
    "    #print(f'estimate: {str(np.float64(estimate.stddev))}')\n",
    "    #print(f'estimate: {(np.float64(estimate.amplitude))}')\n",
    "    #print(f'estimate: {estimate}')\n",
    "    \n",
    "    \n",
    "    #if (np.float64(estimate.amplitude)) <= 0:\n",
    "        #print(f'no amplitude found')\n",
    "        #g_init = models.Gaussian1D(amplitude = 20*u.Unit('erg cm^-2 s^-1 AA^-1'),\n",
    "        #                          mean=np.float64(estimate.mean), stddev=1*u.AA)\n",
    "        \n",
    "    if str(np.float64(estimate.stddev)) == 'nan':\n",
    "        #print('NAN')\n",
    "        g_init = models.Gaussian1D(amplitude=np.float64(estimate.amplitude),\n",
    "                           mean=np.float64(estimate.mean), stddev=1*u.AA)\n",
    "    else:\n",
    "        #print(f'standard deviation: {np.float64(estimate.stddev)}')\n",
    "        g_init = models.Gaussian1D(amplitude=np.float64(estimate.amplitude),\n",
    "                           mean=np.float64(estimate.mean), stddev=np.float64(estimate.stddev))\n",
    "            \n",
    "    g_fit = fit_lines(spectrum, g_init,\n",
    "                      window=[(6620*u.AA, 6630*u.AA)])\n",
    "    y_fit = g_fit(wavelength*u.AA)\n",
    "    \n",
    "    #print(f'Model amplitude: {np.float64(g_fit.amplitude)}')\n",
    "    #print(f'Model mean: {np.float64(g_fit.mean)}')\n",
    "    \n",
    "    redshift_value = redshift(labs[-1], np.float64(g_fit.mean))\n",
    "    #print(f'redshift value: {redshift_value}')\n",
    "    \n",
    "    # Plot the original spectrum and the fitted.\n",
    "    #=======================================================================\n",
    "    \n",
    "    plt.plot(wavelength, fluxData, label=\"Original spectrum\")\n",
    "    #plt.plot(wavelength[centre-50:centre+50],\n",
    "    #         flux[centre-50:centre+50], label='test emission line')\n",
    "    plt.plot(wavelength, y_fit, label=\"Fit result\")\n",
    "    plt.title('Single fit peak')\n",
    "    #plt.xlim(6500, 6650)\n",
    "    #plt.ylim(0, 300)\n",
    "    plt.grid(True)\n",
    "    plt.legend()\n",
    "    \n",
    "    # Save Parameters\n",
    "    #=============================================================================\n",
    "    amplitude = np.float64(g_fit.amplitude)\n",
    "    mean = np.float64(g_fit.mean)\n",
    "    stddev = np.float64(g_fit.stddev)\n",
    "    c_0 = np.float64(c_init.c0)\n",
    "    c_1 = np.float64(c_init.c1)\n",
    "    \n",
    "    return c_0, c_1, amplitude, mean, stddev, redshift_value\n",
    "\n",
    "    \n",
    "    \n",
    "    \n",
    "    "
   ]
  },
  {
   "cell_type": "code",
   "execution_count": null,
   "id": "3b3ceec3",
   "metadata": {},
   "outputs": [],
   "source": [
    "def model(lambda_, c0, c1, A, mu, sigma):\n",
    "    '''\n",
    "    Function to plot model of emission line, continuum and gaussian\n",
    "    So we can check residuals of the brightest spaxels\n",
    "    :param lambda_: wavelength\n",
    "    :param c0: y-intercept of continuum\n",
    "    :param c1: gradient of continuum\n",
    "    :param A: amplitude of gaussian\n",
    "    :param mu: mean of gaussian\n",
    "    :param sigma: standard deviation of gaussian\n",
    "    :returns y: y = c0 + c1*x + Aexp(-(x-mu)^2/(2*sigma^2))\n",
    "    '''\n",
    "    y = c0 + c1*lambda_ + A*np.exp(-(lambda_ - mu)**2/(2*sigma**2))\n",
    "    return y"
   ]
  },
  {
   "cell_type": "code",
   "execution_count": null,
   "id": "3e993fd1",
   "metadata": {},
   "outputs": [],
   "source": [
    "print(wavelength.shape)\n",
    "#3155 3365\n",
    "plt.plot(wavelength, Flux250[:, 3155+18])\n",
    "#plt.axvline(6623, 0, 1, linestyle = 'dotted')\n",
    "#plt.axvline(6635, 0, 1, linestyle = 'dotted')\n",
    "#plt.axhline(14.8, 0, 1, linestyle = 'dotted')\n",
    "plt.xlim(6500, 6700)\n",
    "#plt.ylim(0, 150)\n",
    "\n",
    "function(wavelength, (Flux250[:, 3155+18]), (Error250[:, 3155+18]))"
   ]
  },
  {
   "cell_type": "code",
   "execution_count": null,
   "id": "eb17c165",
   "metadata": {},
   "outputs": [],
   "source": [
    "print(len(Flux250))"
   ]
  },
  {
   "cell_type": "markdown",
   "id": "05270f39",
   "metadata": {},
   "source": [
    "# Flux > 250"
   ]
  },
  {
   "cell_type": "code",
   "execution_count": null,
   "id": "4f4001e2",
   "metadata": {},
   "outputs": [],
   "source": [
    "import warnings\n",
    "\n",
    "warnings.filterwarnings(\"ignore\", message=\"[astropy.modeling.fitting]\")\n",
    "\n",
    "amplitudes_list = np.zeros(5058-18)\n",
    "mean_list = np.zeros(5058-18)\n",
    "stddev_list = np.zeros(5058-18)\n",
    "red_list = np.zeros(5058-18)\n",
    "\n",
    "# Try running loop of 10 pixels\n",
    "for i in range(18, 5058):\n",
    "    amplitudes_list[i-18], mean_list[i-18], stddev_list[i-18], red_list[i-18] = function(wavelength, (Flux250[:, i]), (Error250[:, i]))\n",
    "    \n",
    "    \n",
    "    \n",
    "    "
   ]
  },
  {
   "cell_type": "code",
   "execution_count": null,
   "id": "af4572d2",
   "metadata": {},
   "outputs": [],
   "source": [
    "amp_array = np.zeros((HalphaImage).shape)\n",
    "red_array = np.zeros((HalphaImage).shape)\n",
    "std_array = np.zeros((HalphaImage).shape)\n",
    "mean_array = np.zeros((HalphaImage).shape)\n",
    "\n",
    "for i in range(5040):\n",
    "    amp_array[(np.where(HalphaImage>=250))[0][i+18], (np.where(HalphaImage>=250))[1][i+18]] = amplitudes_list[i]\n",
    "    red_array[(np.where(HalphaImage>=250))[0][i+18], (np.where(HalphaImage>=250))[1][i+18]] = red_list[i]\n",
    "    std_array[(np.where(HalphaImage>=250))[0][i+18], (np.where(HalphaImage>=250))[1][i+18]] = stddev_list[i]\n",
    "    mean_array[(np.where(HalphaImage>=250))[0][i+18], (np.where(HalphaImage>=250))[1][i+18]] = mean_list[i]\n",
    "    \n",
    "\n"
   ]
  },
  {
   "cell_type": "code",
   "execution_count": null,
   "id": "c4d5480a",
   "metadata": {},
   "outputs": [],
   "source": [
    "print(len(np.where(HalphaImage>=75)[0]))"
   ]
  },
  {
   "cell_type": "code",
   "execution_count": null,
   "id": "7da7b970",
   "metadata": {},
   "outputs": [],
   "source": [
    "from mpl_toolkits.axes_grid1 import make_axes_locatable\n",
    "\n",
    "\n",
    "fig, axs = plt.subplots(2, 2, figsize = (10, 10))\n",
    "fig.suptitle('For Flux > 250, around 5000 pixels', fontsize=20)\n",
    "plt.subplots_adjust(left=None, bottom=None, right=None, top=None, wspace=0.5, hspace=0.2)\n",
    "\n",
    "#-------------------------------------------------------------------------------------------\n",
    "im1 = axs[0, 0].imshow(amp_array,  origin='lower', norm=mpl.colors.LogNorm(vmin=10, vmax=1e3))\n",
    "axs[0, 0].set_title('Amplitudes')\n",
    "\n",
    "divider = make_axes_locatable(axs[0, 0])\n",
    "cax = divider.append_axes('right', size='5%', pad=0.05)\n",
    "fig.colorbar(im1, cax=cax, orientation='vertical', label='10^(-20)*erg/s/cm^2/Angstrom')\n",
    "\n",
    "#-------------------------------------------------------------------------------------------\n",
    "im2 = axs[0, 1].imshow(red_array,  origin='lower', norm=mpl.colors.LogNorm(vmin=0.0090, vmax=0.01))\n",
    "axs[0, 1].set_title('Redshift')\n",
    "\n",
    "divider = make_axes_locatable(axs[0, 1])\n",
    "cax = divider.append_axes('right', size='5%', pad=0.05)\n",
    "fig.colorbar(im2, cax=cax, orientation='vertical');\n",
    "\n",
    "#-------------------------------------------------------------------------------------------\n",
    "im3 = axs[1, 0].imshow(std_array,  origin='lower', norm=mpl.colors.LogNorm(vmin=1, vmax=1.5))\n",
    "axs[1, 0].set_title('Standard Deviation')\n",
    "\n",
    "divider = make_axes_locatable(axs[1, 0])\n",
    "cax = divider.append_axes('right', size='5%', pad=0.05)\n",
    "fig.colorbar(im3, cax=cax, orientation='vertical', label='Angstrom');\n",
    "\n",
    "#-------------------------------------------------------------------------------------------\n",
    "im4 = axs[1, 1].imshow(mean_array,  origin='lower', norm=mpl.colors.LogNorm(vmin=6623, vmax=6628))\n",
    "axs[1, 1].set_title('Peak Wavelength')\n",
    "\n",
    "divider = make_axes_locatable(axs[1, 1])\n",
    "cax = divider.append_axes('right', size='5%', pad=0.05)\n",
    "fig.colorbar(im4, cax=cax, orientation='vertical', label='Angstrom');"
   ]
  },
  {
   "cell_type": "markdown",
   "id": "e2101773",
   "metadata": {},
   "source": [
    "why is it upside down?"
   ]
  },
  {
   "cell_type": "code",
   "execution_count": null,
   "id": "c424ddf2",
   "metadata": {},
   "outputs": [],
   "source": [
    "def velocity_calc(lambda_):\n",
    "    '''\n",
    "    Function to calculate velocity, using peak wavelength\n",
    "    '''\n",
    "    return 3e5 * (lambda_ - 6563)/6563\n",
    "\n",
    "def sigma_calc(std_dev):\n",
    "    '''\n",
    "    Function to calculate sigma, with instrument error removed\n",
    "    sigma_obs^2 = sigma_real^2 + sigma_instrument^2\n",
    "    '''\n",
    "    #check whether instrument sigma^2 = 1\n",
    "    return 3e5 * (np.sqrt(std_dev**2-1**2)/6563) "
   ]
  },
  {
   "cell_type": "code",
   "execution_count": null,
   "id": "708ca2ec",
   "metadata": {},
   "outputs": [],
   "source": [
    "velocities = velocity_calc(mean_array)"
   ]
  },
  {
   "cell_type": "code",
   "execution_count": null,
   "id": "688a175a",
   "metadata": {},
   "outputs": [],
   "source": [
    "print(np.nanmedian(velocities[velocities>0]))\n",
    "print(velocities.min())"
   ]
  },
  {
   "cell_type": "code",
   "execution_count": null,
   "id": "fbf73548",
   "metadata": {},
   "outputs": [],
   "source": [
    "plt.imshow(velocities,  origin='lower', norm=mpl.colors.Normalize(vmin=2800, vmax=3000))"
   ]
  },
  {
   "cell_type": "code",
   "execution_count": null,
   "id": "97bf2f6e",
   "metadata": {},
   "outputs": [],
   "source": [
    "sigmas = sigma_calc(std_array) #correct for instrument"
   ]
  },
  {
   "cell_type": "code",
   "execution_count": null,
   "id": "67b92c8f",
   "metadata": {},
   "outputs": [],
   "source": [
    "print(np.nanmedian(sigmas[sigmas>0]))\n",
    "print(sigmas.min())"
   ]
  },
  {
   "cell_type": "code",
   "execution_count": null,
   "id": "785c71ce",
   "metadata": {},
   "outputs": [],
   "source": [
    "plt.imshow(sigmas,  origin='lower', norm=mpl.colors.Normalize(vmin=10, vmax=60))\n",
    "plt.colorbar()"
   ]
  },
  {
   "cell_type": "code",
   "execution_count": null,
   "id": "3b429261",
   "metadata": {},
   "outputs": [],
   "source": [
    "print(amplitudes_list.shape)\n",
    "#Don't want to include high redshifts, too high std devs, any where the mean is zero in averages\n",
    "\n",
    "print(np.where(red_list>=0.012))\n",
    "print(np.where(stddev_list >= 5))\n",
    "print(np.where(mean_list <= 6620))"
   ]
  },
  {
   "cell_type": "code",
   "execution_count": null,
   "id": "e555d643",
   "metadata": {},
   "outputs": [],
   "source": [
    "print('DISCARDING BAD FITS')\n",
    "print(f'mean peak wavelength: {np.mean(mean_list[np.r_[0:51, 53:3154, 3156:3364, 3366:4881, 4883:4903, 4906:5009]])} Angstrom')\n",
    "\n",
    "print(f'mean redshift: {np.mean(red_list[np.r_[0:51, 53:3154, 3156:3364, 3366:4881, 4883:4903, 4906:5009]])}')\n",
    "\n",
    "print(f'mean std dev: {np.mean(stddev_list[np.r_[0:51, 53:3154, 3156:3364, 3366:4881, 4883:4903, 4906:5009]])} Angstrom')"
   ]
  },
  {
   "cell_type": "code",
   "execution_count": null,
   "id": "95871cf0",
   "metadata": {},
   "outputs": [],
   "source": [
    "# Keep track of brightest pixels:\n",
    "\n",
    "#(np.where(amplitudes_list >= 700))\n",
    "idx = (-amplitudes_list).argsort()[:10]\n",
    "print(f'10 brightest pixels: {idx}')\n",
    "\n",
    "print(amplitudes_list[1844])\n"
   ]
  },
  {
   "cell_type": "code",
   "execution_count": null,
   "id": "d079ccf7",
   "metadata": {},
   "outputs": [],
   "source": [
    "fig, axs = plt.subplots(5, 2, figsize = (10, 15))\n",
    "\n",
    "axs[0, 0].plot(wavelength, Flux250[:, idx[0]+18])\n",
    "axs[0, 1].plot(wavelength, Flux250[:, idx[1]+18])\n",
    "axs[1, 0].plot(wavelength, Flux250[:, idx[2]+18])\n",
    "axs[1, 1].plot(wavelength, Flux250[:, idx[3]+18])\n",
    "axs[2, 0].plot(wavelength, Flux250[:, idx[4]+18])\n",
    "axs[2, 1].plot(wavelength, Flux250[:, idx[5]+18])\n",
    "axs[3, 0].plot(wavelength, Flux250[:, idx[6]+18])\n",
    "axs[3, 1].plot(wavelength, Flux250[:, idx[7]+18])\n",
    "axs[4, 0].plot(wavelength, Flux250[:, idx[8]+18])\n",
    "axs[4, 1].plot(wavelength, Flux250[:, idx[9]+18])"
   ]
  },
  {
   "cell_type": "markdown",
   "id": "91d363e0",
   "metadata": {},
   "source": [
    "# Results"
   ]
  },
  {
   "cell_type": "code",
   "execution_count": null,
   "id": "6d237991",
   "metadata": {},
   "outputs": [],
   "source": [
    "print(amplitudes_list[np.where(stddev_list>=3)], mean_list[np.where(stddev_list>=3)], stddev_list[np.where(stddev_list>=3)], red_list[np.where(stddev_list>=3)])\n",
    "print(np.mean(red_list))\n",
    "print(np.mean(stddev_list))\n",
    "#print(np.mean(amplitudes_list))\n",
    "print(np.mean(mean_list))"
   ]
  },
  {
   "cell_type": "code",
   "execution_count": null,
   "id": "73728771",
   "metadata": {},
   "outputs": [],
   "source": [
    "# change function to save c0, c1\n",
    "\n"
   ]
  },
  {
   "cell_type": "markdown",
   "id": "a5704edb",
   "metadata": {},
   "source": [
    "# Flux > 75, 13788 spaxels"
   ]
  },
  {
   "cell_type": "code",
   "execution_count": null,
   "id": "a0556b3e",
   "metadata": {},
   "outputs": [],
   "source": [
    "import warnings\n",
    "\n",
    "warnings.filterwarnings(\"ignore\", message=\"[astropy.modeling.fitting]\")\n",
    "\n",
    "\n",
    "amplitudes75 = np.zeros(13788)\n",
    "mean75 = np.zeros(len(amplitudes75))\n",
    "stddev75 = np.zeros(len(amplitudes75))\n",
    "red75 = np.zeros(len(amplitudes75))\n",
    "c0_75 = np.zeros(len(amplitudes75))\n",
    "c1_75 = np.zeros(len(amplitudes75))\n",
    "\n",
    "#all spaxels\n",
    "for i in range(0, len(amplitudes75)):\n",
    "    c0_75[i], c1_75[i], amplitudes75[i], mean75[i], stddev75[i], red75[i] = function(wavelength, (Flux75[:, i]), (Error75[:, i]))\n",
    "    \n",
    "\n",
    "    \n",
    "    \n",
    "    "
   ]
  },
  {
   "cell_type": "code",
   "execution_count": null,
   "id": "dd2a8ce5",
   "metadata": {},
   "outputs": [],
   "source": [
    "print(function(wavelength, (Flux75[:, 12842]), (Error75[:, 12842])))"
   ]
  },
  {
   "cell_type": "code",
   "execution_count": null,
   "id": "58ce948d",
   "metadata": {},
   "outputs": [],
   "source": [
    "amp75_array = np.zeros((HalphaImage).shape)\n",
    "red75_array = np.zeros((HalphaImage).shape)\n",
    "std75_array = np.zeros((HalphaImage).shape)\n",
    "mean75_array = np.zeros((HalphaImage).shape)\n",
    "\n",
    "for i in range(14321):\n",
    "    amp75_array[(np.where(HalphaImage>=75))[0][i], (np.where(HalphaImage>=75))[1][i]] = amplitudes75[i]\n",
    "    red75_array[(np.where(HalphaImage>=75))[0][i], (np.where(HalphaImage>=75))[1][i]] = red75[i]\n",
    "    std75_array[(np.where(HalphaImage>=75))[0][i], (np.where(HalphaImage>=75))[1][i]] = stddev75[i]\n",
    "    mean75_array[(np.where(HalphaImage>=75))[0][i], (np.where(HalphaImage>=75))[1][i]] = mean75[i]\n",
    "    \n"
   ]
  },
  {
   "cell_type": "code",
   "execution_count": null,
   "id": "2b7a3b79",
   "metadata": {},
   "outputs": [],
   "source": [
    "from mpl_toolkits.axes_grid1 import make_axes_locatable\n",
    "\n",
    "\n",
    "fig, axs = plt.subplots(2, 2, figsize = (10, 10))\n",
    "fig.suptitle('For Flux > 75, around 14000 pixels', fontsize=20)\n",
    "plt.subplots_adjust(left=None, bottom=None, right=None, top=None, wspace=0.5, hspace=0.2)\n",
    "\n",
    "#-------------------------------------------------------------------------------------------\n",
    "im1 = axs[0, 0].imshow(amp75_array,  origin='lower', norm=mpl.colors.LogNorm(vmin=10, vmax=1e3))\n",
    "axs[0, 0].set_title('Amplitudes')\n",
    "\n",
    "divider = make_axes_locatable(axs[0, 0])\n",
    "cax = divider.append_axes('right', size='5%', pad=0.05)\n",
    "fig.colorbar(im1, cax=cax, orientation='vertical', label='10^(-20)*erg/s/cm^2/Angstrom')\n",
    "\n",
    "#-------------------------------------------------------------------------------------------\n",
    "im2 = axs[0, 1].imshow(red75_array,  origin='lower', norm=mpl.colors.LogNorm(vmin=0.0090, vmax=0.01))\n",
    "axs[0, 1].set_title('Redshift')\n",
    "\n",
    "divider = make_axes_locatable(axs[0, 1])\n",
    "cax = divider.append_axes('right', size='5%', pad=0.05)\n",
    "fig.colorbar(im2, cax=cax, orientation='vertical');\n",
    "\n",
    "#-------------------------------------------------------------------------------------------\n",
    "im3 = axs[1, 0].imshow(std75_array,  origin='lower', norm=mpl.colors.LogNorm(vmin=1, vmax=1.5))\n",
    "axs[1, 0].set_title('Standard Deviation')\n",
    "\n",
    "divider = make_axes_locatable(axs[1, 0])\n",
    "cax = divider.append_axes('right', size='5%', pad=0.05)\n",
    "fig.colorbar(im3, cax=cax, orientation='vertical', label='Angstrom');\n",
    "\n",
    "#-------------------------------------------------------------------------------------------\n",
    "im4 = axs[1, 1].imshow(mean75_array,  origin='lower', norm=mpl.colors.LogNorm(vmin=6623, vmax=6628))\n",
    "axs[1, 1].set_title('Peak Wavelength')\n",
    "\n",
    "divider = make_axes_locatable(axs[1, 1])\n",
    "cax = divider.append_axes('right', size='5%', pad=0.05)\n",
    "fig.colorbar(im4, cax=cax, orientation='vertical', label='Angstrom');"
   ]
  },
  {
   "cell_type": "code",
   "execution_count": null,
   "id": "2fce49b8",
   "metadata": {},
   "outputs": [],
   "source": []
  }
 ],
 "metadata": {
  "kernelspec": {
   "display_name": "Python 3",
   "language": "python",
   "name": "python3"
  },
  "language_info": {
   "codemirror_mode": {
    "name": "ipython",
    "version": 3
   },
   "file_extension": ".py",
   "mimetype": "text/x-python",
   "name": "python",
   "nbconvert_exporter": "python",
   "pygments_lexer": "ipython3",
   "version": "3.7.10"
  }
 },
 "nbformat": 4,
 "nbformat_minor": 5
}
